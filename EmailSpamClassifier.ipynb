{
  "nbformat": 4,
  "nbformat_minor": 0,
  "metadata": {
    "colab": {
      "provenance": [],
      "authorship_tag": "ABX9TyNB7KlR0Q8PNdOu9UDRDJUi",
      "include_colab_link": true
    },
    "kernelspec": {
      "name": "python3",
      "display_name": "Python 3"
    },
    "language_info": {
      "name": "python"
    }
  },
  "cells": [
    {
      "cell_type": "markdown",
      "metadata": {
        "id": "view-in-github",
        "colab_type": "text"
      },
      "source": [
        "<a href=\"https://colab.research.google.com/github/Alhagie1/Alhagie1/blob/main/EmailSpamClassifier.ipynb\" target=\"_parent\"><img src=\"https://colab.research.google.com/assets/colab-badge.svg\" alt=\"Open In Colab\"/></a>"
      ]
    },
    {
      "cell_type": "code",
      "source": [
        "import numpy as np\n",
        "import pandas as pd\n",
        "from sklearn.model_selection import train_test_split\n",
        "from sklearn.feature_extraction.text import TfidfVectorizer\n",
        "from sklearn.linear_model import LogisticRegression\n",
        "from sklearn.metrics import accuracy_score\n",
        "import os\n",
        "\n",
        "# Check if file exists\n",
        "file_path = \"/content/mail_data.csv\"\n",
        "if os.path.exists(file_path):\n",
        "    print(\"File exists.\")\n",
        "\n",
        "    # Load the dataset\n",
        "    data = pd.read_csv(file_path)\n",
        "\n",
        "    # Replace missing values with empty string\n",
        "    data['Message'] = data['Message'].fillna('')\n",
        "\n",
        "    # Convert labels to binary (e.g., spam=1, ham=0)\n",
        "    data['Category'] = data['Category'].map({'spam': 1, 'ham': 0})\n",
        "\n",
        "    # Split features and labels\n",
        "    X = data['Message']\n",
        "    y = data['Category']\n",
        "\n",
        "    # Split into training and test sets\n",
        "    X_train, X_test, y_train, y_test = train_test_split(X, y, test_size=0.2, random_state=42)\n",
        "\n",
        "    # Convert text to TF-IDF features\n",
        "    vectorizer = TfidfVectorizer(stop_words='english', max_df=0.7)\n",
        "    X_train_tfidf = vectorizer.fit_transform(X_train)\n",
        "    X_test_tfidf = vectorizer.transform(X_test)\n",
        "\n",
        "    # Train logistic regression model\n",
        "    model = LogisticRegression()\n",
        "    model.fit(X_train_tfidf, y_train)\n",
        "\n",
        "    # Predict on test set\n",
        "    y_pred = model.predict(X_test_tfidf)\n",
        "\n",
        "    # Calculate accuracy\n",
        "    accuracy = accuracy_score(y_test, y_pred)\n",
        "    print(f\"Model Accuracy: {accuracy:.4f}\")\n",
        "else:\n",
        "    print(\"File does not exist. Please upload the file using the following code:\")\n",
        "    print(\"from google.colab import files\")\n",
        "    print(\"uploaded = files.upload()\")\n",
        "\n",
        "# After loading the data, process and count the labels for the chart\n",
        "if os.path.exists(file_path):\n",
        "    data = pd.read_csv(file_path)\n",
        "    # Convert labels to binary if they aren't already (in case the file didn't exist previously)\n",
        "    if data['Category'].dtype == 'object':\n",
        "        data['Category'] = data['Category'].map({'spam': 1, 'ham': 0})\n",
        "    # Count spam and ham using the mapped binary values\n",
        "    label_counts = data['Category'].value_counts()\n",
        "    # Rename index to 'ham' and 'spam' for the chart labels\n",
        "    label_counts = label_counts.rename(index={0: 'ham', 1: 'spam'})\n",
        "    print(f\"Label counts for chart: {label_counts.to_dict()}\") # Print counts to verify"
      ],
      "metadata": {
        "colab": {
          "base_uri": "https://localhost:8080/"
        },
        "id": "U8LMf2ZvBu8q",
        "outputId": "c027fa89-3fdf-4e2a-8942-71f8c8ee2a0f"
      },
      "execution_count": 13,
      "outputs": [
        {
          "output_type": "stream",
          "name": "stdout",
          "text": [
            "File exists.\n",
            "Model Accuracy: 0.9677\n",
            "Label counts for chart: {'ham': 4825, 'spam': 747}\n"
          ]
        }
      ]
    },
    {
      "cell_type": "markdown",
      "source": [],
      "metadata": {
        "id": "QMTXP1zHPNsO"
      }
    }
  ]
}